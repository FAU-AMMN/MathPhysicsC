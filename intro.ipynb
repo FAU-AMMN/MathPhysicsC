{
 "cells": [
  {
   "cell_type": "markdown",
   "metadata": {},
   "source": [
    "# Mathematik für Physiker C"
   ]
  },
  {
   "cell_type": "code",
   "execution_count": null,
   "metadata": {
    "tags": [
     "hide-input"
    ]
   },
   "outputs": [],
   "source": [
    "import numpy as np\n",
    "import matplotlib.pyplot as plt\n",
    "\n",
    "fig = plt.figure(figsize = (16,8))\n",
    "\n",
    "# first plot\n",
    "ax = fig.add_subplot(1, 2, 1)\n",
    "\n",
    "x = np.linspace(-2,2,100)\n",
    "eps = [1e-3, 1e-2, 5e-2, 1e-1, 3e-1, 1]\n",
    "\n",
    "\n",
    "colors = color=plt.cm.PiYG(np.linspace(0,1,len(eps)))\n",
    "# plot\n",
    "for i in range(len(eps)):\n",
    "    y = np.sin(x)/(np.abs(x) + 10*eps[i]) # * np.abs(y)\n",
    "    ax.plot(x, y,linewidth=1, color = colors[i])\n",
    "    \n",
    "    y_diff = 0.05*np.ones_like(y)\n",
    "    ax.fill_between(x, y - y_diff, y + y_diff, color = colors[i], alpha = 0.1)\n",
    "\n",
    "ax.axis('off')\n",
    "\n",
    "# second plot\n",
    "ax2 = fig.add_subplot(1, 2, 2)\n",
    "\n",
    "for i in range(len(eps)):\n",
    "    y = np.exp(-0.01/eps[i] * x**2) * np.abs(x)**0.5# * np.abs(y)\n",
    "    ax2.plot(x, y,linewidth=1, color = colors[i])\n",
    "    \n",
    "    y_diff = 0.05*np.ones_like(y)\n",
    "    ax2.fill_between(x, y - y_diff, y + y_diff, color = colors[i], alpha = 0.1)\n",
    "\n",
    "ax2.axis('off')\n",
    "\n",
    "# show\n",
    "plt.show()"
   ]
  }
 ],
 "metadata": {
  "celltoolbar": "Tags",
  "kernelspec": {
   "display_name": "Python 3",
   "language": "python",
   "name": "python3"
  },
  "language_info": {
   "codemirror_mode": {
    "name": "ipython",
    "version": 3
   },
   "file_extension": ".py",
   "mimetype": "text/x-python",
   "name": "python",
   "nbconvert_exporter": "python",
   "pygments_lexer": "ipython3",
   "version": "3.8.5"
  }
 },
 "nbformat": 4,
 "nbformat_minor": 4
}
